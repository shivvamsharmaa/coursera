{
 "cells": [
  {
   "cell_type": "markdown",
   "id": "a4cb17e8",
   "metadata": {},
   "source": [
    "Data Science Tools and Ecosystem\n"
   ]
  },
  {
   "cell_type": "markdown",
   "id": "e15628a5",
   "metadata": {},
   "source": [
    "In this notebook, Data Science Tools and Ecosystem are summarized.\n"
   ]
  },
  {
   "cell_type": "markdown",
   "id": "0d6bb601",
   "metadata": {},
   "source": [
    "**Objectives**\n",
    "- List popular languages For Data Science\n",
    "- Summarize commonly used libraries For Data Science\n",
    "- Introduce Anaconda And its role In the Data Science ecosystem\n",
    "- Demonstrate arithmetic expressions And their evaluation In Python\n",
    "- Convert units of time using arithmetic expressions In Python"
   ]
  },
  {
   "cell_type": "markdown",
   "id": "91e9d6e4",
   "metadata": {},
   "source": [
    "Some of the popular languages that Data Scientists use are:\n",
    "\n",
    "1. Python\n",
    "2. R\n",
    "3. SQL"
   ]
  },
  {
   "cell_type": "markdown",
   "id": "64546957",
   "metadata": {},
   "source": [
    "Some of the commonly used libraries used by Data Scientists include:\n",
    "\n",
    "1. Pandas\n",
    "2. NumPy\n",
    "3. Matplotlib"
   ]
  },
  {
   "cell_type": "markdown",
   "id": "538b58e0",
   "metadata": {},
   "source": [
    "| Data Science Tools |\n",
    "| ------ |\n",
    "| Jupyter Notebook  |\n",
    "| Spyder  |\n",
    "| RStudio  |\n"
   ]
  },
  {
   "cell_type": "markdown",
   "id": "afb572e0",
   "metadata": {},
   "source": [
    "### Below are a few examples of evaluating arithmetic expressions in Python.\n",
    "- Addition: 2 + 2 evaluates to 4.\n",
    "- Subtraction: 5 - 3 evaluates to 2.\n",
    "- Multiplication: 4 * 6 evaluates to 24.\n",
    "- Division: 10 / 2 evaluates to 5.0\n",
    "- Exponentiation: 3 ** 4 evaluates to 81."
   ]
  },
  {
   "cell_type": "code",
   "execution_count": 2,
   "id": "92b16701",
   "metadata": {},
   "outputs": [
    {
     "data": {
      "text/plain": [
       "17"
      ]
     },
     "execution_count": 2,
     "metadata": {},
     "output_type": "execute_result"
    }
   ],
   "source": [
    "# This is a simple arithmetic expression to multiply then add integers.\n",
    "(3 * 4) + 5\n"
   ]
  },
  {
   "cell_type": "code",
   "execution_count": 3,
   "id": "e88a875d",
   "metadata": {},
   "outputs": [
    {
     "data": {
      "text/plain": [
       "3.3333333333333335"
      ]
     },
     "execution_count": 3,
     "metadata": {},
     "output_type": "execute_result"
    }
   ],
   "source": [
    "# This will convert 200 minutes to hours by dividing by 60.\n",
    "200 / 60\n"
   ]
  },
  {
   "cell_type": "markdown",
   "id": "0e5c8d66",
   "metadata": {},
   "source": [
    "## Author\n",
    "    Shivam Sharma"
   ]
  },
  {
   "cell_type": "code",
   "execution_count": null,
   "id": "934ec7e0",
   "metadata": {},
   "outputs": [],
   "source": []
  }
 ],
 "metadata": {
  "kernelspec": {
   "display_name": "Python 3 (ipykernel)",
   "language": "python",
   "name": "python3"
  },
  "language_info": {
   "codemirror_mode": {
    "name": "ipython",
    "version": 3
   },
   "file_extension": ".py",
   "mimetype": "text/x-python",
   "name": "python",
   "nbconvert_exporter": "python",
   "pygments_lexer": "ipython3",
   "version": "3.9.13"
  }
 },
 "nbformat": 4,
 "nbformat_minor": 5
}
